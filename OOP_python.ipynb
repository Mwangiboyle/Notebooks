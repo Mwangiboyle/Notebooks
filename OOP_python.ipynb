{
 "cells": [
  {
   "cell_type": "markdown",
   "id": "02289303-1ae0-4c2f-a764-3cdb0c2bdf5b",
   "metadata": {},
   "source": [
    "Exercise: Library Management System\n",
    "Task: Create a simple Book class and a Library class to manage a collection of books.\n",
    "\n",
    "Requirements:\n",
    "\n",
    "Book Class:\n",
    "\n",
    "Attributes:\n",
    "title: The title of the book (string).\n",
    "\n",
    "author: The author of the book (string).\n",
    "\n",
    "\n",
    "year: The year the book was published (integer).\n",
    "\n",
    "available: A boolean indicating if the book is available for borrowing (default is True).\n",
    "\n",
    "Methods:\n",
    "\n",
    "display_info(): Prints out the book's title, author, and year.\n",
    "\n",
    "borrow(): Sets available to False if the book is available, and prints a message indicating it has been borrowed. If not available, print a message saying the book is already borrowed.\n",
    "\n",
    "return_book(): Sets available to True and prints a message indicating the book has been returned.\n",
    "\n",
    "Library Class:\n",
    "\n",
    "Attributes:\n",
    "\n",
    "books: A list of Book objects representing the books in the library.\n",
    "\n",
    "Methods:\n",
    "\n",
    "add_book(book): Adds a Book object to the library's collection.\n",
    "\n",
    "remove_book(title): Removes a book from the collection based on its title.\n",
    "\n",
    "list_books(): Prints out the details of all the books in the library, including whether they are available or not.\n"
   ]
  },
  {
   "cell_type": "code",
   "execution_count": 4,
   "id": "ca9022e8-6874-4724-a5b2-db67758457b2",
   "metadata": {},
   "outputs": [],
   "source": [
    "class book:\n",
    "\n",
    "    def __init__(self,title,author,year):\n",
    "        self.title = title\n",
    "        self.author = author\n",
    "        self.year = year\n",
    "        self.available = True\n",
    "        \n",
    "    def display_info(self):\n",
    "        return f\"'{self.title}' by {self.author}, published in  {self.year}\"\n",
    "\n",
    "    \n",
    "    def borrow(self):\n",
    "        if self.available:\n",
    "            self.available=False\n",
    "            print(f\"You have borrowed '{self.title}'.\")\n",
    "        else:\n",
    "            print(f\"'{self.title}' is already borrowed\")\n",
    "    def return_book(self):\n",
    "        if not self.available:\n",
    "            self.available = True\n",
    "            print(f\"'{self.title}' has been returned.\")\n",
    "        else:\n",
    "            print(f\"'{self.title}' is not borrowed\")\n",
    "            \n",
    "class library:\n",
    "    def __init__(self):\n",
    "        self.books = []\n",
    "\n",
    "    def add_book(self,book):\n",
    "        self.books.append(book)\n",
    "        print(f\"Book '{book.title}' added to the library\")\n",
    "\n",
    "    def remove_book(self, title):\n",
    "        for book in self.books:\n",
    "            if book.title == title:\n",
    "                self.books.remove(book)\n",
    "                print(f\"Book '{title}' removed from the library.\")\n",
    "                return\n",
    "        print(f\"Book '{title}'not found in the library.\")\n",
    "        \n",
    "    def list_books(self):\n",
    "        if not self.books:\n",
    "            print(\"Library has no books\")\n",
    "        else:\n",
    "            for book in self.books:\n",
    "                status = 'Availabe' if book.available else 'Borrowed'\n",
    "                print(f\"{book.display_info()} - {status}\")"
   ]
  },
  {
   "cell_type": "code",
   "execution_count": 7,
   "id": "a94d8efa-5dae-4bfc-81c6-1b8bf23afd1a",
   "metadata": {},
   "outputs": [],
   "source": [
    "book1 = book(\"1984\", \"George Orwell\", 1949)\n",
    "book2 = book(\"To Kill a Mockingbird\", \"Harper Lee\", 1960)"
   ]
  },
  {
   "cell_type": "code",
   "execution_count": 28,
   "id": "847d75e0-a6ca-4bda-85c4-50925d3c65fb",
   "metadata": {},
   "outputs": [
    {
     "name": "stdout",
     "output_type": "stream",
     "text": [
      "Book '1984' added to the library\n",
      "Book 'To Kill a Mockingbird' added to the library\n"
     ]
    }
   ],
   "source": [
    "Library = library()\n",
    "Library.add_book(book1)\n",
    "Library.add_book(book2)"
   ]
  },
  {
   "cell_type": "code",
   "execution_count": 29,
   "id": "13866e40-b31f-44f8-b1ce-40536d9eb176",
   "metadata": {},
   "outputs": [
    {
     "name": "stdout",
     "output_type": "stream",
     "text": [
      "'1984' by George Orwell, published in  1949 - Availabe\n",
      "'To Kill a Mockingbird' by Harper Lee, published in  1960 - Availabe\n"
     ]
    }
   ],
   "source": [
    "Library.list_books()"
   ]
  },
  {
   "cell_type": "code",
   "execution_count": 30,
   "id": "0faceecb-ee7d-49f4-8dd3-71b7d729d27d",
   "metadata": {},
   "outputs": [
    {
     "name": "stdout",
     "output_type": "stream",
     "text": [
      "You have borrowed '1984'.\n"
     ]
    }
   ],
   "source": [
    "book1.borrow()"
   ]
  },
  {
   "cell_type": "code",
   "execution_count": 25,
   "id": "353377f7-c33d-410c-b3d9-249ee80c83ee",
   "metadata": {},
   "outputs": [
    {
     "name": "stdout",
     "output_type": "stream",
     "text": [
      "'1984' is already borrowed\n"
     ]
    }
   ],
   "source": [
    "book1.borrow()"
   ]
  },
  {
   "cell_type": "code",
   "execution_count": 26,
   "id": "09c0d9d6-e902-4dd1-884b-b8296c2741e5",
   "metadata": {},
   "outputs": [
    {
     "name": "stdout",
     "output_type": "stream",
     "text": [
      "'1984' has been returned.\n",
      "'1984' is not borrowed\n"
     ]
    }
   ],
   "source": [
    "book1.return_book()\n",
    "book1.return_book()"
   ]
  },
  {
   "cell_type": "code",
   "execution_count": 31,
   "id": "9900a711-3467-4c35-a245-89de15b02f69",
   "metadata": {},
   "outputs": [
    {
     "name": "stdout",
     "output_type": "stream",
     "text": [
      "'1984' by George Orwell, published in  1949 - Borrowed\n",
      "'To Kill a Mockingbird' by Harper Lee, published in  1960 - Availabe\n"
     ]
    }
   ],
   "source": [
    "#Library.remove_book(\"1984\")\n",
    "Library.list_books()"
   ]
  },
  {
   "cell_type": "code",
   "execution_count": null,
   "id": "c3d404d8-bfb1-43ff-b52e-b15fbb3a37bf",
   "metadata": {},
   "outputs": [],
   "source": []
  }
 ],
 "metadata": {
  "kernelspec": {
   "display_name": "Python 3 (ipykernel)",
   "language": "python",
   "name": "python3"
  },
  "language_info": {
   "codemirror_mode": {
    "name": "ipython",
    "version": 3
   },
   "file_extension": ".py",
   "mimetype": "text/x-python",
   "name": "python",
   "nbconvert_exporter": "python",
   "pygments_lexer": "ipython3",
   "version": "3.11.7"
  }
 },
 "nbformat": 4,
 "nbformat_minor": 5
}
