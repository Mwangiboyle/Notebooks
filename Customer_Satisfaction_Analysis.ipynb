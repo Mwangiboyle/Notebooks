{
 "cells": [
  {
   "cell_type": "markdown",
   "id": "73342503-5dbb-47e9-91a5-d505a81ac7e4",
   "metadata": {},
   "source": [
    "**we'll learn to analyze customer reviews for an online women's clothing shop. Our task is determining which clothing category (Tops, Bottoms, Jackets, Dresses, or Intimate) has higher customer satisfaction. The data consists of text reviews, and we'll use Python with pandas for data manipulation and the NLTK module for text preprocessing and sentiment analysis. Prior knowledge of Python and pandas is required. By the end of the course, learners will gain practical experience in text data analysis and customer sentiment evaluation.**"
   ]
  },
  {
   "cell_type": "markdown",
   "id": "35adcc62-9d3d-4d6a-a5c8-acb9c68f847d",
   "metadata": {},
   "source": [
    "**- \n",
    "Loading the customer reviews datase**t\n",
    "\r",
    "- \n",
    "•\r\n",
    "Clean and preprocess the reve\t- \r\n",
    "\r\n",
    "•\r\n",
    "Tokenize the reviews and removing the stoo- rds\r\n",
    "\r\n",
    "•\r\n",
    "Practice Task - Text Cleaning and Prepc- essing\r\n",
    "\r\n",
    "•\r\n",
    "Exploring the tokens and produtc- ategories\r\n",
    "\r\n",
    "•\r\n",
    "Extracting the adjective n-  the reviews\r\n",
    "\r\n",
    "•\r\n",
    "Finding the sentiet-  of each review\r\n",
    "\r\n",
    "•\r\n",
    "Challenge Task - Cuomer Review Analysis *"
   ]
  },
  {
   "cell_type": "code",
   "execution_count": 4,
   "id": "2b9af0ee-8457-409a-a28f-b702f19e4e8c",
   "metadata": {},
   "outputs": [
    {
     "name": "stdout",
     "output_type": "stream",
     "text": [
      "Collecting kaggle\n",
      "  Downloading kaggle-1.6.17.tar.gz (82 kB)\n",
      "     ---------------------------------------- 0.0/82.7 kB ? eta -:--:--\n",
      "     ------------------- -------------------- 41.0/82.7 kB ? eta -:--:--\n",
      "     ------------------- -------------------- 41.0/82.7 kB ? eta -:--:--\n",
      "     -------------------------------------  81.9/82.7 kB 508.4 kB/s eta 0:00:01\n",
      "     -------------------------------------  81.9/82.7 kB 508.4 kB/s eta 0:00:01\n",
      "     -------------------------------------  81.9/82.7 kB 508.4 kB/s eta 0:00:01\n",
      "     -------------------------------------  81.9/82.7 kB 508.4 kB/s eta 0:00:01\n",
      "     -------------------------------------- 82.7/82.7 kB 220.9 kB/s eta 0:00:00\n",
      "  Preparing metadata (setup.py): started\n",
      "  Preparing metadata (setup.py): finished with status 'done'\n",
      "Requirement already satisfied: six>=1.10 in c:\\programdata\\anaconda3\\lib\\site-packages (from kaggle) (1.16.0)\n",
      "Requirement already satisfied: certifi>=2023.7.22 in c:\\programdata\\anaconda3\\lib\\site-packages (from kaggle) (2024.2.2)\n",
      "Requirement already satisfied: python-dateutil in c:\\programdata\\anaconda3\\lib\\site-packages (from kaggle) (2.8.2)\n",
      "Requirement already satisfied: requests in c:\\programdata\\anaconda3\\lib\\site-packages (from kaggle) (2.31.0)\n",
      "Requirement already satisfied: tqdm in c:\\programdata\\anaconda3\\lib\\site-packages (from kaggle) (4.65.0)\n",
      "Requirement already satisfied: python-slugify in c:\\programdata\\anaconda3\\lib\\site-packages (from kaggle) (5.0.2)\n",
      "Requirement already satisfied: urllib3 in c:\\programdata\\anaconda3\\lib\\site-packages (from kaggle) (2.0.7)\n",
      "Requirement already satisfied: bleach in c:\\programdata\\anaconda3\\lib\\site-packages (from kaggle) (4.1.0)\n",
      "Requirement already satisfied: packaging in c:\\programdata\\anaconda3\\lib\\site-packages (from bleach->kaggle) (23.1)\n",
      "Requirement already satisfied: webencodings in c:\\programdata\\anaconda3\\lib\\site-packages (from bleach->kaggle) (0.5.1)\n",
      "Requirement already satisfied: text-unidecode>=1.3 in c:\\programdata\\anaconda3\\lib\\site-packages (from python-slugify->kaggle) (1.3)\n",
      "Requirement already satisfied: charset-normalizer<4,>=2 in c:\\programdata\\anaconda3\\lib\\site-packages (from requests->kaggle) (2.0.4)\n",
      "Requirement already satisfied: idna<4,>=2.5 in c:\\programdata\\anaconda3\\lib\\site-packages (from requests->kaggle) (3.4)\n",
      "Requirement already satisfied: colorama in c:\\programdata\\anaconda3\\lib\\site-packages (from tqdm->kaggle) (0.4.6)\n",
      "Building wheels for collected packages: kaggle\n",
      "  Building wheel for kaggle (setup.py): started\n",
      "  Building wheel for kaggle (setup.py): finished with status 'done'\n",
      "  Created wheel for kaggle: filename=kaggle-1.6.17-py3-none-any.whl size=105796 sha256=d8a2cab698c1b0c4e1adefdbe35602ea7f94011347da119b07b53cf3f0b9ff29\n",
      "  Stored in directory: c:\\users\\administrator\\appdata\\local\\pip\\cache\\wheels\\ff\\55\\fb\\b27a466be754d2a06ffe0e37b248d844f090a63b51becea85d\n",
      "Successfully built kaggle\n",
      "Installing collected packages: kaggle\n",
      "Successfully installed kaggle-1.6.17\n",
      "Dataset URL: https://www.kaggle.com/datasets/nicapotato/womens-ecommerce-clothing-reviews\n",
      "License(s): CC0-1.0\n",
      "Downloading womens-ecommerce-clothing-reviews.zip to C:\\Users\\Administrator\n",
      "\n"
     ]
    },
    {
     "name": "stderr",
     "output_type": "stream",
     "text": [
      "\n",
      "  0%|          | 0.00/2.79M [00:00<?, ?B/s]\n",
      " 36%|###5      | 1.00M/2.79M [00:03<00:05, 342kB/s]\n",
      " 72%|#######1  | 2.00M/2.79M [00:05<00:02, 387kB/s]\n",
      "100%|##########| 2.79M/2.79M [00:07<00:00, 404kB/s]\n",
      "100%|##########| 2.79M/2.79M [00:07<00:00, 393kB/s]\n"
     ]
    }
   ],
   "source": [
    "#!/bin/bash\n",
    "!pip install kaggle\n",
    "!kaggle datasets download nicapotato/womens-ecommerce-clothing-reviews"
   ]
  },
  {
   "cell_type": "code",
   "execution_count": 5,
   "id": "6d3bbf7b-cf01-44c9-b529-0b0a09dda47e",
   "metadata": {},
   "outputs": [],
   "source": [
    "import zipfile\n",
    "\n",
    "with zipfile.ZipFile(\"womens-ecommerce-clothing-reviews.zip\", 'r') as zip_ref:\n",
    "    zip_ref.extractall(\"womens-ecommerce-clothing-reviews\")"
   ]
  },
  {
   "cell_type": "markdown",
   "id": "0a679a19-3964-4e6d-81b9-945be8b600a2",
   "metadata": {},
   "source": [
    "Load the dataset"
   ]
  },
  {
   "cell_type": "code",
   "execution_count": 11,
   "id": "cb4a711b-0359-44d3-8bca-a568c77cca40",
   "metadata": {},
   "outputs": [
    {
     "data": {
      "text/html": [
       "<div>\n",
       "<style scoped>\n",
       "    .dataframe tbody tr th:only-of-type {\n",
       "        vertical-align: middle;\n",
       "    }\n",
       "\n",
       "    .dataframe tbody tr th {\n",
       "        vertical-align: top;\n",
       "    }\n",
       "\n",
       "    .dataframe thead th {\n",
       "        text-align: right;\n",
       "    }\n",
       "</style>\n",
       "<table border=\"1\" class=\"dataframe\">\n",
       "  <thead>\n",
       "    <tr style=\"text-align: right;\">\n",
       "      <th></th>\n",
       "      <th>Unnamed: 0</th>\n",
       "      <th>Clothing ID</th>\n",
       "      <th>Age</th>\n",
       "      <th>Title</th>\n",
       "      <th>Review Text</th>\n",
       "      <th>Rating</th>\n",
       "      <th>Recommended IND</th>\n",
       "      <th>Positive Feedback Count</th>\n",
       "      <th>Division Name</th>\n",
       "      <th>Department Name</th>\n",
       "      <th>Class Name</th>\n",
       "    </tr>\n",
       "  </thead>\n",
       "  <tbody>\n",
       "    <tr>\n",
       "      <th>0</th>\n",
       "      <td>0</td>\n",
       "      <td>767</td>\n",
       "      <td>33</td>\n",
       "      <td>NaN</td>\n",
       "      <td>Absolutely wonderful - silky and sexy and comf...</td>\n",
       "      <td>4</td>\n",
       "      <td>1</td>\n",
       "      <td>0</td>\n",
       "      <td>Initmates</td>\n",
       "      <td>Intimate</td>\n",
       "      <td>Intimates</td>\n",
       "    </tr>\n",
       "    <tr>\n",
       "      <th>1</th>\n",
       "      <td>1</td>\n",
       "      <td>1080</td>\n",
       "      <td>34</td>\n",
       "      <td>NaN</td>\n",
       "      <td>Love this dress!  it's sooo pretty.  i happene...</td>\n",
       "      <td>5</td>\n",
       "      <td>1</td>\n",
       "      <td>4</td>\n",
       "      <td>General</td>\n",
       "      <td>Dresses</td>\n",
       "      <td>Dresses</td>\n",
       "    </tr>\n",
       "    <tr>\n",
       "      <th>2</th>\n",
       "      <td>2</td>\n",
       "      <td>1077</td>\n",
       "      <td>60</td>\n",
       "      <td>Some major design flaws</td>\n",
       "      <td>I had such high hopes for this dress and reall...</td>\n",
       "      <td>3</td>\n",
       "      <td>0</td>\n",
       "      <td>0</td>\n",
       "      <td>General</td>\n",
       "      <td>Dresses</td>\n",
       "      <td>Dresses</td>\n",
       "    </tr>\n",
       "    <tr>\n",
       "      <th>3</th>\n",
       "      <td>3</td>\n",
       "      <td>1049</td>\n",
       "      <td>50</td>\n",
       "      <td>My favorite buy!</td>\n",
       "      <td>I love, love, love this jumpsuit. it's fun, fl...</td>\n",
       "      <td>5</td>\n",
       "      <td>1</td>\n",
       "      <td>0</td>\n",
       "      <td>General Petite</td>\n",
       "      <td>Bottoms</td>\n",
       "      <td>Pants</td>\n",
       "    </tr>\n",
       "    <tr>\n",
       "      <th>4</th>\n",
       "      <td>4</td>\n",
       "      <td>847</td>\n",
       "      <td>47</td>\n",
       "      <td>Flattering shirt</td>\n",
       "      <td>This shirt is very flattering to all due to th...</td>\n",
       "      <td>5</td>\n",
       "      <td>1</td>\n",
       "      <td>6</td>\n",
       "      <td>General</td>\n",
       "      <td>Tops</td>\n",
       "      <td>Blouses</td>\n",
       "    </tr>\n",
       "  </tbody>\n",
       "</table>\n",
       "</div>"
      ],
      "text/plain": [
       "   Unnamed: 0  Clothing ID  Age                    Title  \\\n",
       "0           0          767   33                      NaN   \n",
       "1           1         1080   34                      NaN   \n",
       "2           2         1077   60  Some major design flaws   \n",
       "3           3         1049   50         My favorite buy!   \n",
       "4           4          847   47         Flattering shirt   \n",
       "\n",
       "                                         Review Text  Rating  Recommended IND  \\\n",
       "0  Absolutely wonderful - silky and sexy and comf...       4                1   \n",
       "1  Love this dress!  it's sooo pretty.  i happene...       5                1   \n",
       "2  I had such high hopes for this dress and reall...       3                0   \n",
       "3  I love, love, love this jumpsuit. it's fun, fl...       5                1   \n",
       "4  This shirt is very flattering to all due to th...       5                1   \n",
       "\n",
       "   Positive Feedback Count   Division Name Department Name Class Name  \n",
       "0                        0       Initmates        Intimate  Intimates  \n",
       "1                        4         General         Dresses    Dresses  \n",
       "2                        0         General         Dresses    Dresses  \n",
       "3                        0  General Petite         Bottoms      Pants  \n",
       "4                        6         General            Tops    Blouses  "
      ]
     },
     "execution_count": 11,
     "metadata": {},
     "output_type": "execute_result"
    }
   ],
   "source": [
    "import pandas as pd\n",
    "df = pd.read_csv('womens-ecommerce-clothing-reviews/Womens Clothing E-Commerce Reviews.csv')\n",
    "df.head()"
   ]
  },
  {
   "cell_type": "code",
   "execution_count": 12,
   "id": "aff886ce-f326-42d4-91b4-6f574eadb351",
   "metadata": {},
   "outputs": [
    {
     "data": {
      "text/html": [
       "<div>\n",
       "<style scoped>\n",
       "    .dataframe tbody tr th:only-of-type {\n",
       "        vertical-align: middle;\n",
       "    }\n",
       "\n",
       "    .dataframe tbody tr th {\n",
       "        vertical-align: top;\n",
       "    }\n",
       "\n",
       "    .dataframe thead th {\n",
       "        text-align: right;\n",
       "    }\n",
       "</style>\n",
       "<table border=\"1\" class=\"dataframe\">\n",
       "  <thead>\n",
       "    <tr style=\"text-align: right;\">\n",
       "      <th></th>\n",
       "      <th>Unnamed: 0</th>\n",
       "      <th>Clothing ID</th>\n",
       "      <th>Age</th>\n",
       "      <th>Rating</th>\n",
       "      <th>Recommended IND</th>\n",
       "      <th>Positive Feedback Count</th>\n",
       "    </tr>\n",
       "  </thead>\n",
       "  <tbody>\n",
       "    <tr>\n",
       "      <th>count</th>\n",
       "      <td>23486.000000</td>\n",
       "      <td>23486.000000</td>\n",
       "      <td>23486.000000</td>\n",
       "      <td>23486.000000</td>\n",
       "      <td>23486.000000</td>\n",
       "      <td>23486.000000</td>\n",
       "    </tr>\n",
       "    <tr>\n",
       "      <th>mean</th>\n",
       "      <td>11742.500000</td>\n",
       "      <td>918.118709</td>\n",
       "      <td>43.198544</td>\n",
       "      <td>4.196032</td>\n",
       "      <td>0.822362</td>\n",
       "      <td>2.535936</td>\n",
       "    </tr>\n",
       "    <tr>\n",
       "      <th>std</th>\n",
       "      <td>6779.968547</td>\n",
       "      <td>203.298980</td>\n",
       "      <td>12.279544</td>\n",
       "      <td>1.110031</td>\n",
       "      <td>0.382216</td>\n",
       "      <td>5.702202</td>\n",
       "    </tr>\n",
       "    <tr>\n",
       "      <th>min</th>\n",
       "      <td>0.000000</td>\n",
       "      <td>0.000000</td>\n",
       "      <td>18.000000</td>\n",
       "      <td>1.000000</td>\n",
       "      <td>0.000000</td>\n",
       "      <td>0.000000</td>\n",
       "    </tr>\n",
       "    <tr>\n",
       "      <th>25%</th>\n",
       "      <td>5871.250000</td>\n",
       "      <td>861.000000</td>\n",
       "      <td>34.000000</td>\n",
       "      <td>4.000000</td>\n",
       "      <td>1.000000</td>\n",
       "      <td>0.000000</td>\n",
       "    </tr>\n",
       "    <tr>\n",
       "      <th>50%</th>\n",
       "      <td>11742.500000</td>\n",
       "      <td>936.000000</td>\n",
       "      <td>41.000000</td>\n",
       "      <td>5.000000</td>\n",
       "      <td>1.000000</td>\n",
       "      <td>1.000000</td>\n",
       "    </tr>\n",
       "    <tr>\n",
       "      <th>75%</th>\n",
       "      <td>17613.750000</td>\n",
       "      <td>1078.000000</td>\n",
       "      <td>52.000000</td>\n",
       "      <td>5.000000</td>\n",
       "      <td>1.000000</td>\n",
       "      <td>3.000000</td>\n",
       "    </tr>\n",
       "    <tr>\n",
       "      <th>max</th>\n",
       "      <td>23485.000000</td>\n",
       "      <td>1205.000000</td>\n",
       "      <td>99.000000</td>\n",
       "      <td>5.000000</td>\n",
       "      <td>1.000000</td>\n",
       "      <td>122.000000</td>\n",
       "    </tr>\n",
       "  </tbody>\n",
       "</table>\n",
       "</div>"
      ],
      "text/plain": [
       "         Unnamed: 0   Clothing ID           Age        Rating  \\\n",
       "count  23486.000000  23486.000000  23486.000000  23486.000000   \n",
       "mean   11742.500000    918.118709     43.198544      4.196032   \n",
       "std     6779.968547    203.298980     12.279544      1.110031   \n",
       "min        0.000000      0.000000     18.000000      1.000000   \n",
       "25%     5871.250000    861.000000     34.000000      4.000000   \n",
       "50%    11742.500000    936.000000     41.000000      5.000000   \n",
       "75%    17613.750000   1078.000000     52.000000      5.000000   \n",
       "max    23485.000000   1205.000000     99.000000      5.000000   \n",
       "\n",
       "       Recommended IND  Positive Feedback Count  \n",
       "count     23486.000000             23486.000000  \n",
       "mean          0.822362                 2.535936  \n",
       "std           0.382216                 5.702202  \n",
       "min           0.000000                 0.000000  \n",
       "25%           1.000000                 0.000000  \n",
       "50%           1.000000                 1.000000  \n",
       "75%           1.000000                 3.000000  \n",
       "max           1.000000               122.000000  "
      ]
     },
     "execution_count": 12,
     "metadata": {},
     "output_type": "execute_result"
    }
   ],
   "source": [
    "df.describe()"
   ]
  },
  {
   "cell_type": "code",
   "execution_count": 13,
   "id": "6ca93add-bc73-45ec-9fac-b2a5b41b8cab",
   "metadata": {},
   "outputs": [
    {
     "data": {
      "text/plain": [
       "<bound method DataFrame.info of        Unnamed: 0  Clothing ID  Age  \\\n",
       "0               0          767   33   \n",
       "1               1         1080   34   \n",
       "2               2         1077   60   \n",
       "3               3         1049   50   \n",
       "4               4          847   47   \n",
       "...           ...          ...  ...   \n",
       "23481       23481         1104   34   \n",
       "23482       23482          862   48   \n",
       "23483       23483         1104   31   \n",
       "23484       23484         1084   28   \n",
       "23485       23485         1104   52   \n",
       "\n",
       "                                                   Title  \\\n",
       "0                                                    NaN   \n",
       "1                                                    NaN   \n",
       "2                                Some major design flaws   \n",
       "3                                       My favorite buy!   \n",
       "4                                       Flattering shirt   \n",
       "...                                                  ...   \n",
       "23481                     Great dress for many occasions   \n",
       "23482                         Wish it was made of cotton   \n",
       "23483                              Cute, but see through   \n",
       "23484  Very cute dress, perfect for summer parties an...   \n",
       "23485                    Please make more like this one!   \n",
       "\n",
       "                                             Review Text  Rating  \\\n",
       "0      Absolutely wonderful - silky and sexy and comf...       4   \n",
       "1      Love this dress!  it's sooo pretty.  i happene...       5   \n",
       "2      I had such high hopes for this dress and reall...       3   \n",
       "3      I love, love, love this jumpsuit. it's fun, fl...       5   \n",
       "4      This shirt is very flattering to all due to th...       5   \n",
       "...                                                  ...     ...   \n",
       "23481  I was very happy to snag this dress at such a ...       5   \n",
       "23482  It reminds me of maternity clothes. soft, stre...       3   \n",
       "23483  This fit well, but the top was very see throug...       3   \n",
       "23484  I bought this dress for a wedding i have this ...       3   \n",
       "23485  This dress in a lovely platinum is feminine an...       5   \n",
       "\n",
       "       Recommended IND  Positive Feedback Count   Division Name  \\\n",
       "0                    1                        0       Initmates   \n",
       "1                    1                        4         General   \n",
       "2                    0                        0         General   \n",
       "3                    1                        0  General Petite   \n",
       "4                    1                        6         General   \n",
       "...                ...                      ...             ...   \n",
       "23481                1                        0  General Petite   \n",
       "23482                1                        0  General Petite   \n",
       "23483                0                        1  General Petite   \n",
       "23484                1                        2         General   \n",
       "23485                1                       22  General Petite   \n",
       "\n",
       "      Department Name Class Name  \n",
       "0            Intimate  Intimates  \n",
       "1             Dresses    Dresses  \n",
       "2             Dresses    Dresses  \n",
       "3             Bottoms      Pants  \n",
       "4                Tops    Blouses  \n",
       "...               ...        ...  \n",
       "23481         Dresses    Dresses  \n",
       "23482            Tops      Knits  \n",
       "23483         Dresses    Dresses  \n",
       "23484         Dresses    Dresses  \n",
       "23485         Dresses    Dresses  \n",
       "\n",
       "[23486 rows x 11 columns]>"
      ]
     },
     "execution_count": 13,
     "metadata": {},
     "output_type": "execute_result"
    }
   ],
   "source": [
    "df.info"
   ]
  },
  {
   "cell_type": "code",
   "execution_count": 14,
   "id": "d03849db-aece-4b0e-aef6-ac4ef71204f6",
   "metadata": {},
   "outputs": [
    {
     "data": {
      "text/plain": [
       "Class Name\n",
       "Dresses           6319\n",
       "Knits             4843\n",
       "Blouses           3097\n",
       "Sweaters          1428\n",
       "Pants             1388\n",
       "Jeans             1147\n",
       "Fine gauge        1100\n",
       "Skirts             945\n",
       "Jackets            704\n",
       "Lounge             691\n",
       "Swim               350\n",
       "Outerwear          328\n",
       "Shorts             317\n",
       "Sleep              228\n",
       "Legwear            165\n",
       "Intimates          154\n",
       "Layering           146\n",
       "Trend              119\n",
       "Casual bottoms       2\n",
       "Chemises             1\n",
       "Name: count, dtype: int64"
      ]
     },
     "execution_count": 14,
     "metadata": {},
     "output_type": "execute_result"
    }
   ],
   "source": [
    "df['Class Name'].value_counts()"
   ]
  },
  {
   "cell_type": "code",
   "execution_count": 15,
   "id": "735e1d55-36a2-4338-8ada-49b421bc6c06",
   "metadata": {},
   "outputs": [
    {
     "data": {
      "text/plain": [
       "Department Name\n",
       "Tops        10468\n",
       "Dresses      6319\n",
       "Bottoms      3799\n",
       "Intimate     1735\n",
       "Jackets      1032\n",
       "Trend         119\n",
       "Name: count, dtype: int64"
      ]
     },
     "execution_count": 15,
     "metadata": {},
     "output_type": "execute_result"
    }
   ],
   "source": [
    "df['Department Name'].value_counts()"
   ]
  },
  {
   "cell_type": "code",
   "execution_count": 33,
   "id": "a5139fd9-88fe-4417-9438-ad0a5b7f5e15",
   "metadata": {},
   "outputs": [
    {
     "data": {
      "text/html": [
       "<div>\n",
       "<style scoped>\n",
       "    .dataframe tbody tr th:only-of-type {\n",
       "        vertical-align: middle;\n",
       "    }\n",
       "\n",
       "    .dataframe tbody tr th {\n",
       "        vertical-align: top;\n",
       "    }\n",
       "\n",
       "    .dataframe thead th {\n",
       "        text-align: right;\n",
       "    }\n",
       "</style>\n",
       "<table border=\"1\" class=\"dataframe\">\n",
       "  <thead>\n",
       "    <tr style=\"text-align: right;\">\n",
       "      <th></th>\n",
       "      <th>Department Name</th>\n",
       "      <th>Review Text</th>\n",
       "      <th>Rating</th>\n",
       "    </tr>\n",
       "  </thead>\n",
       "  <tbody>\n",
       "    <tr>\n",
       "      <th>0</th>\n",
       "      <td>Intimate</td>\n",
       "      <td>Absolutely wonderful - silky and sexy and comf...</td>\n",
       "      <td>4</td>\n",
       "    </tr>\n",
       "    <tr>\n",
       "      <th>1</th>\n",
       "      <td>Dresses</td>\n",
       "      <td>Love this dress!  it's sooo pretty.  i happene...</td>\n",
       "      <td>5</td>\n",
       "    </tr>\n",
       "    <tr>\n",
       "      <th>2</th>\n",
       "      <td>Dresses</td>\n",
       "      <td>I had such high hopes for this dress and reall...</td>\n",
       "      <td>3</td>\n",
       "    </tr>\n",
       "    <tr>\n",
       "      <th>3</th>\n",
       "      <td>Bottoms</td>\n",
       "      <td>I love, love, love this jumpsuit. it's fun, fl...</td>\n",
       "      <td>5</td>\n",
       "    </tr>\n",
       "    <tr>\n",
       "      <th>4</th>\n",
       "      <td>Tops</td>\n",
       "      <td>This shirt is very flattering to all due to th...</td>\n",
       "      <td>5</td>\n",
       "    </tr>\n",
       "  </tbody>\n",
       "</table>\n",
       "</div>"
      ],
      "text/plain": [
       "  Department Name                                        Review Text  Rating\n",
       "0        Intimate  Absolutely wonderful - silky and sexy and comf...       4\n",
       "1         Dresses  Love this dress!  it's sooo pretty.  i happene...       5\n",
       "2         Dresses  I had such high hopes for this dress and reall...       3\n",
       "3         Bottoms  I love, love, love this jumpsuit. it's fun, fl...       5\n",
       "4            Tops  This shirt is very flattering to all due to th...       5"
      ]
     },
     "execution_count": 33,
     "metadata": {},
     "output_type": "execute_result"
    }
   ],
   "source": [
    "data = df[['Department Name', 'Review Text', 'Rating']]\n",
    "data.head()"
   ]
  },
  {
   "cell_type": "code",
   "execution_count": 34,
   "id": "4030788b-28e5-4f77-8957-bef22860d109",
   "metadata": {},
   "outputs": [
    {
     "data": {
      "text/plain": [
       "Department Name     14\n",
       "Review Text        845\n",
       "Rating               0\n",
       "dtype: int64"
      ]
     },
     "execution_count": 34,
     "metadata": {},
     "output_type": "execute_result"
    }
   ],
   "source": [
    "data.isnull().sum()"
   ]
  },
  {
   "cell_type": "code",
   "execution_count": 35,
   "id": "43edf0b1-1a24-4b6a-8716-0fea4fe675c6",
   "metadata": {},
   "outputs": [
    {
     "name": "stdout",
     "output_type": "stream",
     "text": [
      "Department Name    0\n",
      "Review Text        0\n",
      "Rating             0\n",
      "dtype: int64\n"
     ]
    },
    {
     "data": {
      "text/html": [
       "<div>\n",
       "<style scoped>\n",
       "    .dataframe tbody tr th:only-of-type {\n",
       "        vertical-align: middle;\n",
       "    }\n",
       "\n",
       "    .dataframe tbody tr th {\n",
       "        vertical-align: top;\n",
       "    }\n",
       "\n",
       "    .dataframe thead th {\n",
       "        text-align: right;\n",
       "    }\n",
       "</style>\n",
       "<table border=\"1\" class=\"dataframe\">\n",
       "  <thead>\n",
       "    <tr style=\"text-align: right;\">\n",
       "      <th></th>\n",
       "      <th>Department Name</th>\n",
       "      <th>Review Text</th>\n",
       "      <th>Rating</th>\n",
       "    </tr>\n",
       "  </thead>\n",
       "  <tbody>\n",
       "    <tr>\n",
       "      <th>0</th>\n",
       "      <td>Intimate</td>\n",
       "      <td>Absolutely wonderful - silky and sexy and comf...</td>\n",
       "      <td>4</td>\n",
       "    </tr>\n",
       "    <tr>\n",
       "      <th>1</th>\n",
       "      <td>Dresses</td>\n",
       "      <td>Love this dress!  it's sooo pretty.  i happene...</td>\n",
       "      <td>5</td>\n",
       "    </tr>\n",
       "    <tr>\n",
       "      <th>2</th>\n",
       "      <td>Dresses</td>\n",
       "      <td>I had such high hopes for this dress and reall...</td>\n",
       "      <td>3</td>\n",
       "    </tr>\n",
       "    <tr>\n",
       "      <th>3</th>\n",
       "      <td>Bottoms</td>\n",
       "      <td>I love, love, love this jumpsuit. it's fun, fl...</td>\n",
       "      <td>5</td>\n",
       "    </tr>\n",
       "    <tr>\n",
       "      <th>4</th>\n",
       "      <td>Tops</td>\n",
       "      <td>This shirt is very flattering to all due to th...</td>\n",
       "      <td>5</td>\n",
       "    </tr>\n",
       "  </tbody>\n",
       "</table>\n",
       "</div>"
      ],
      "text/plain": [
       "  Department Name                                        Review Text  Rating\n",
       "0        Intimate  Absolutely wonderful - silky and sexy and comf...       4\n",
       "1         Dresses  Love this dress!  it's sooo pretty.  i happene...       5\n",
       "2         Dresses  I had such high hopes for this dress and reall...       3\n",
       "3         Bottoms  I love, love, love this jumpsuit. it's fun, fl...       5\n",
       "4            Tops  This shirt is very flattering to all due to th...       5"
      ]
     },
     "execution_count": 35,
     "metadata": {},
     "output_type": "execute_result"
    }
   ],
   "source": [
    "data = data.dropna()\n",
    "print(data.isnull().sum())\n",
    "data.head()"
   ]
  },
  {
   "cell_type": "code",
   "execution_count": 52,
   "id": "f54d8d0f-f097-4c8e-8ed6-fdc09b29bc74",
   "metadata": {},
   "outputs": [
    {
     "data": {
      "text/plain": [
       "\"I ordered this in carbon for store pick up, and had a ton of stuff (as always) to try on and used this top to pair (skirts and pants). everything went with it. the color is really nice charcoal with shimmer, and went well with pencil skirts, flare pants, etc. my only compaint is it is a bit big, sleeves are long and it doesn't go in petite. also a bit loose for me, but no xxs... so i kept it and wil ldecide later since the light color is already sold out in hte smallest size...\""
      ]
     },
     "execution_count": 52,
     "metadata": {},
     "output_type": "execute_result"
    }
   ],
   "source": [
    "data['Review Text'][7]"
   ]
  },
  {
   "cell_type": "markdown",
   "id": "00273a6b-bbe6-4584-b1f4-8c70c7b4f8ab",
   "metadata": {},
   "source": [
    "**Step 2: Clean and Preprocess the Reviews**\n",
    "\n",
    "- Convert all text to lowercase to maintain consistency.\n",
    "\n",
    "- Remove any punctuation, special characters, or unwanted symbols.\n",
    "\n",
    "- Handle any missing values in review_text if present."
   ]
  },
  {
   "cell_type": "code",
   "execution_count": 53,
   "id": "868a18ba-8f22-4ae5-a7f0-b04871331da4",
   "metadata": {},
   "outputs": [
    {
     "data": {
      "text/plain": [
       "'i ordered this in carbon for store pick up and had a ton of stuff as always to try on and used this top to pair skirts and pants everything went with it the color is really nice charcoal with shimmer and went well with pencil skirts flare pants etc my only compaint is it is a bit big sleeves are long and it doesnt go in petite also a bit loose for me but no xxs so i kept it and wil ldecide later since the light color is already sold out in hte smallest size'"
      ]
     },
     "execution_count": 53,
     "metadata": {},
     "output_type": "execute_result"
    }
   ],
   "source": [
    "import re\n",
    "\n",
    "data['Review Text'] = data['Review Text'].apply(lambda x: re.sub(r'[^\\w\\s]', '', x.lower()))\n",
    "data['Review Text'][7]"
   ]
  },
  {
   "cell_type": "markdown",
   "id": "f1736973-5155-49e2-a235-32711f705284",
   "metadata": {},
   "source": [
    "**Step 3: Tokenize the Reviews and Remove Stopwords**\n",
    "\n",
    "- Tokenize the text data using NLTK.\n",
    "\n",
    "- Remove stopwords to keep only meaningful words in the analysis."
   ]
  },
  {
   "cell_type": "code",
   "execution_count": 55,
   "id": "137de2af-be29-437e-81b8-1ecdbad696f5",
   "metadata": {},
   "outputs": [
    {
     "name": "stderr",
     "output_type": "stream",
     "text": [
      "[nltk_data] Downloading package punkt to\n",
      "[nltk_data]     C:\\Users\\Administrator\\AppData\\Roaming\\nltk_data...\n",
      "[nltk_data]   Package punkt is already up-to-date!\n",
      "[nltk_data] Downloading package stopwords to\n",
      "[nltk_data]     C:\\Users\\Administrator\\AppData\\Roaming\\nltk_data...\n",
      "[nltk_data]   Unzipping corpora\\stopwords.zip.\n"
     ]
    }
   ],
   "source": [
    "import nltk\n",
    "from nltk.corpus import stopwords\n",
    "from nltk.tokenize import word_tokenize\n",
    "\n",
    "nltk.download('punkt')\n",
    "nltk.download('stopwords')\n",
    "stop_words = set(stopwords.words('english'))\n"
   ]
  },
  {
   "cell_type": "code",
   "execution_count": 56,
   "id": "abaa9858-56e9-41a2-bdf8-6136569f25df",
   "metadata": {},
   "outputs": [
    {
     "data": {
      "text/plain": [
       "0        [absolutely, wonderful, silky, sexy, comfortable]\n",
       "1        [love, dress, sooo, pretty, happened, find, st...\n",
       "2        [high, hopes, dress, really, wanted, work, ini...\n",
       "3        [love, love, love, jumpsuit, fun, flirty, fabu...\n",
       "4        [shirt, flattering, due, adjustable, front, ti...\n",
       "                               ...                        \n",
       "23481    [happy, snag, dress, great, price, easy, slip,...\n",
       "23482    [reminds, maternity, clothes, soft, stretchy, ...\n",
       "23483    [fit, well, top, see, never, would, worked, im...\n",
       "23484    [bought, dress, wedding, summer, cute, unfortu...\n",
       "23485    [dress, lovely, platinum, feminine, fits, perf...\n",
       "Name: Tokens, Length: 22628, dtype: object"
      ]
     },
     "execution_count": 56,
     "metadata": {},
     "output_type": "execute_result"
    }
   ],
   "source": [
    " data['Tokens'] = data['Review Text'].apply(lambda x: [word for word in word_tokenize(x) if word not in stop_words])\n",
    "data['Tokens']"
   ]
  },
  {
   "cell_type": "markdown",
   "id": "6b39f0c9-f726-4c52-90fa-f27496f8c0d4",
   "metadata": {},
   "source": [
    "**Step 5: Exploring the Tokens and Product Categories**\n",
    "\n",
    "- Group by Category and explore the distribution of tokens for each category.\n",
    "\n",
    "- Visualize the frequency of words in each category to identify common themes."
   ]
  },
  {
   "cell_type": "code",
   "execution_count": 71,
   "id": "a1d9aa5b-17ee-4ce7-b564-ea0ff385c89f",
   "metadata": {},
   "outputs": [
    {
     "data": {
      "text/plain": [
       "<Axes: title={'center': 'Clothing Category Distribution'}, xlabel='Department Name'>"
      ]
     },
     "execution_count": 71,
     "metadata": {},
     "output_type": "execute_result"
    },
    {
     "data": {
      "image/png": "[encoded data removed]",
      "text/plain": [
       "<Figure size 640x480 with 1 Axes>"
      ]
     },
     "metadata": {},
     "output_type": "display_data"
    }
   ],
   "source": [
    "data['Department Name'].value_counts().plot(kind='bar', title='Clothing Category Distribution')\n"
   ]
  },
  {
   "cell_type": "markdown",
   "id": "837ca138-d8d2-4877-bae9-c57057d127df",
   "metadata": {},
   "source": [
    "**Step 6: Extracting Adjectives in the Reviews**\n",
    "\n",
    "- Use POS (part-of-speech) tagging to extract adjectives, as these often convey opinions.\n",
    "\n",
    "- NLTK’s pos_tag function is helpful here to identify adjectives."
   ]
  },
  {
   "cell_type": "code",
   "execution_count": 58,
   "id": "0a0fcb8c-cd91-4246-9935-4de004f85061",
   "metadata": {},
   "outputs": [],
   "source": [
    "from nltk import pos_tag\n",
    "\n",
    "def extract_adjectives(tokens):\n",
    "    tagged_words = pos_tag(tokens)\n",
    "    return [word for word, tag in tagged_words if tag in ['JJ', 'JJR', 'JJS']]\n",
    "\n",
    "data['Adjectives'] = data['Tokens'].apply(extract_adjectives)\n"
   ]
  },
  {
   "cell_type": "code",
   "execution_count": 59,
   "id": "a36c2e95-2a4d-4568-88dd-24a3b33d7877",
   "metadata": {},
   "outputs": [
    {
     "data": {
      "text/plain": [
       "0                      [wonderful, silky, comfortable]\n",
       "1           [find, online, love, little, true, petite]\n",
       "2    [high, wanted, petite, small, usual, small, sm...\n",
       "3                              [fabulous, wear, great]\n",
       "4           [due, adjustable, perfect, wear, cardigan]\n",
       "5    [reese, tall, full, small, narrowing, embellis...\n",
       "6                 [last, teh, gorgeous, little, baggy]\n",
       "7    [pick, top, nice, pencil, flare, big, long, lo...\n",
       "8                  [xs, little, snug, feminine, usual]\n",
       "9    [petite, sure, wear, regular, less, busty, sma...\n",
       "Name: Adjectives, dtype: object"
      ]
     },
     "execution_count": 59,
     "metadata": {},
     "output_type": "execute_result"
    }
   ],
   "source": [
    "data['Adjectives'][:10]"
   ]
  },
  {
   "cell_type": "markdown",
   "id": "9604174a-1d49-4aad-8d9b-26bb1ccafae1",
   "metadata": {},
   "source": [
    "**Step 7: Finding the Sentiment of Each Review**\n",
    "\n",
    "- Calculate sentiment scores for each review using NLTK’s SentimentIntensityAnalyzer or other sentiment analysis tools."
   ]
  },
  {
   "cell_type": "code",
   "execution_count": 61,
   "id": "8fce9f0a-b2cc-4b2f-bfd5-180bedb42845",
   "metadata": {},
   "outputs": [
    {
     "name": "stderr",
     "output_type": "stream",
     "text": [
      "[nltk_data] Downloading package vader_lexicon to\n",
      "[nltk_data]     C:\\Users\\Administrator\\AppData\\Roaming\\nltk_data...\n"
     ]
    }
   ],
   "source": [
    "nltk.download('vader_lexicon')\n",
    "from nltk.sentiment import SentimentIntensityAnalyzer\n",
    "\n",
    "sia = SentimentIntensityAnalyzer()"
   ]
  },
  {
   "cell_type": "code",
   "execution_count": 65,
   "id": "33bebf1c-6713-406d-9c86-2f865a50b9bd",
   "metadata": {},
   "outputs": [],
   "source": [
    "data['Sentiment'] = data['Review Text'].apply(lambda x: sia.polarity_scores(x)['compound'])"
   ]
  },
  {
   "cell_type": "code",
   "execution_count": 66,
   "id": "0ccfa4c1-4fd4-4da0-a80c-b91a9ba14259",
   "metadata": {},
   "outputs": [
    {
     "data": {
      "text/html": [
       "<div>\n",
       "<style scoped>\n",
       "    .dataframe tbody tr th:only-of-type {\n",
       "        vertical-align: middle;\n",
       "    }\n",
       "\n",
       "    .dataframe tbody tr th {\n",
       "        vertical-align: top;\n",
       "    }\n",
       "\n",
       "    .dataframe thead th {\n",
       "        text-align: right;\n",
       "    }\n",
       "</style>\n",
       "<table border=\"1\" class=\"dataframe\">\n",
       "  <thead>\n",
       "    <tr style=\"text-align: right;\">\n",
       "      <th></th>\n",
       "      <th>Department Name</th>\n",
       "      <th>Review Text</th>\n",
       "      <th>Rating</th>\n",
       "      <th>Tokens</th>\n",
       "      <th>Adjectives</th>\n",
       "      <th>Sentiment</th>\n",
       "    </tr>\n",
       "  </thead>\n",
       "  <tbody>\n",
       "    <tr>\n",
       "      <th>0</th>\n",
       "      <td>Intimate</td>\n",
       "      <td>absolutely wonderful  silky and sexy and comfo...</td>\n",
       "      <td>4</td>\n",
       "      <td>[absolutely, wonderful, silky, sexy, comfortable]</td>\n",
       "      <td>[wonderful, silky, comfortable]</td>\n",
       "      <td>0.8932</td>\n",
       "    </tr>\n",
       "    <tr>\n",
       "      <th>1</th>\n",
       "      <td>Dresses</td>\n",
       "      <td>love this dress  its sooo pretty  i happened t...</td>\n",
       "      <td>5</td>\n",
       "      <td>[love, dress, sooo, pretty, happened, find, st...</td>\n",
       "      <td>[find, online, love, little, true, petite]</td>\n",
       "      <td>0.9719</td>\n",
       "    </tr>\n",
       "    <tr>\n",
       "      <th>2</th>\n",
       "      <td>Dresses</td>\n",
       "      <td>i had such high hopes for this dress and reall...</td>\n",
       "      <td>3</td>\n",
       "      <td>[high, hopes, dress, really, wanted, work, ini...</td>\n",
       "      <td>[high, wanted, petite, small, usual, small, sm...</td>\n",
       "      <td>0.9398</td>\n",
       "    </tr>\n",
       "    <tr>\n",
       "      <th>3</th>\n",
       "      <td>Bottoms</td>\n",
       "      <td>i love love love this jumpsuit its fun flirty ...</td>\n",
       "      <td>5</td>\n",
       "      <td>[love, love, love, jumpsuit, fun, flirty, fabu...</td>\n",
       "      <td>[fabulous, wear, great]</td>\n",
       "      <td>0.4805</td>\n",
       "    </tr>\n",
       "    <tr>\n",
       "      <th>4</th>\n",
       "      <td>Tops</td>\n",
       "      <td>this shirt is very flattering to all due to th...</td>\n",
       "      <td>5</td>\n",
       "      <td>[shirt, flattering, due, adjustable, front, ti...</td>\n",
       "      <td>[due, adjustable, perfect, wear, cardigan]</td>\n",
       "      <td>0.9162</td>\n",
       "    </tr>\n",
       "    <tr>\n",
       "      <th>5</th>\n",
       "      <td>Dresses</td>\n",
       "      <td>i love tracy reese dresses but this one is not...</td>\n",
       "      <td>2</td>\n",
       "      <td>[love, tracy, reese, dresses, one, petite, 5, ...</td>\n",
       "      <td>[reese, tall, full, small, narrowing, embellis...</td>\n",
       "      <td>0.9419</td>\n",
       "    </tr>\n",
       "    <tr>\n",
       "      <th>6</th>\n",
       "      <td>Tops</td>\n",
       "      <td>i aded this in my basket at hte last mintue to...</td>\n",
       "      <td>5</td>\n",
       "      <td>[aded, basket, hte, last, mintue, see, would, ...</td>\n",
       "      <td>[last, teh, gorgeous, little, baggy]</td>\n",
       "      <td>0.4576</td>\n",
       "    </tr>\n",
       "    <tr>\n",
       "      <th>7</th>\n",
       "      <td>Tops</td>\n",
       "      <td>i ordered this in carbon for store pick up and...</td>\n",
       "      <td>4</td>\n",
       "      <td>[ordered, carbon, store, pick, ton, stuff, alw...</td>\n",
       "      <td>[pick, top, nice, pencil, flare, big, long, lo...</td>\n",
       "      <td>-0.0909</td>\n",
       "    </tr>\n",
       "    <tr>\n",
       "      <th>8</th>\n",
       "      <td>Dresses</td>\n",
       "      <td>i love this dress i usually get an xs but it r...</td>\n",
       "      <td>5</td>\n",
       "      <td>[love, dress, usually, get, xs, runs, little, ...</td>\n",
       "      <td>[xs, little, snug, feminine, usual]</td>\n",
       "      <td>0.7175</td>\n",
       "    </tr>\n",
       "    <tr>\n",
       "      <th>9</th>\n",
       "      <td>Dresses</td>\n",
       "      <td>im 55 and 125 lbs i ordered the s petite to ma...</td>\n",
       "      <td>5</td>\n",
       "      <td>[im, 55, 125, lbs, ordered, petite, make, sure...</td>\n",
       "      <td>[petite, sure, wear, regular, less, busty, sma...</td>\n",
       "      <td>-0.3724</td>\n",
       "    </tr>\n",
       "  </tbody>\n",
       "</table>\n",
       "</div>"
      ],
      "text/plain": [
       "  Department Name                                        Review Text  Rating  \\\n",
       "0        Intimate  absolutely wonderful  silky and sexy and comfo...       4   \n",
       "1         Dresses  love this dress  its sooo pretty  i happened t...       5   \n",
       "2         Dresses  i had such high hopes for this dress and reall...       3   \n",
       "3         Bottoms  i love love love this jumpsuit its fun flirty ...       5   \n",
       "4            Tops  this shirt is very flattering to all due to th...       5   \n",
       "5         Dresses  i love tracy reese dresses but this one is not...       2   \n",
       "6            Tops  i aded this in my basket at hte last mintue to...       5   \n",
       "7            Tops  i ordered this in carbon for store pick up and...       4   \n",
       "8         Dresses  i love this dress i usually get an xs but it r...       5   \n",
       "9         Dresses  im 55 and 125 lbs i ordered the s petite to ma...       5   \n",
       "\n",
       "                                              Tokens  \\\n",
       "0  [absolutely, wonderful, silky, sexy, comfortable]   \n",
       "1  [love, dress, sooo, pretty, happened, find, st...   \n",
       "2  [high, hopes, dress, really, wanted, work, ini...   \n",
       "3  [love, love, love, jumpsuit, fun, flirty, fabu...   \n",
       "4  [shirt, flattering, due, adjustable, front, ti...   \n",
       "5  [love, tracy, reese, dresses, one, petite, 5, ...   \n",
       "6  [aded, basket, hte, last, mintue, see, would, ...   \n",
       "7  [ordered, carbon, store, pick, ton, stuff, alw...   \n",
       "8  [love, dress, usually, get, xs, runs, little, ...   \n",
       "9  [im, 55, 125, lbs, ordered, petite, make, sure...   \n",
       "\n",
       "                                          Adjectives  Sentiment  \n",
       "0                    [wonderful, silky, comfortable]     0.8932  \n",
       "1         [find, online, love, little, true, petite]     0.9719  \n",
       "2  [high, wanted, petite, small, usual, small, sm...     0.9398  \n",
       "3                            [fabulous, wear, great]     0.4805  \n",
       "4         [due, adjustable, perfect, wear, cardigan]     0.9162  \n",
       "5  [reese, tall, full, small, narrowing, embellis...     0.9419  \n",
       "6               [last, teh, gorgeous, little, baggy]     0.4576  \n",
       "7  [pick, top, nice, pencil, flare, big, long, lo...    -0.0909  \n",
       "8                [xs, little, snug, feminine, usual]     0.7175  \n",
       "9  [petite, sure, wear, regular, less, busty, sma...    -0.3724  "
      ]
     },
     "execution_count": 66,
     "metadata": {},
     "output_type": "execute_result"
    }
   ],
   "source": [
    "data[:10]"
   ]
  },
  {
   "cell_type": "code",
   "execution_count": 69,
   "id": "6158cd7e-a80b-4d8e-b5e4-7ab9e2234cfc",
   "metadata": {},
   "outputs": [
    {
     "data": {
      "text/plain": [
       "count    22628.000000\n",
       "mean         0.729986\n",
       "std          0.372637\n",
       "min         -0.956300\n",
       "25%          0.700300\n",
       "50%          0.885000\n",
       "75%          0.947900\n",
       "max          0.995900\n",
       "Name: Sentiment, dtype: float64"
      ]
     },
     "execution_count": 69,
     "metadata": {},
     "output_type": "execute_result"
    }
   ],
   "source": [
    "data.Sentiment.describe()"
   ]
  },
  {
   "cell_type": "markdown",
   "id": "165246e9-f43d-4baf-b3c9-fee9a43ebdb0",
   "metadata": {},
   "source": [
    "**Step 8: Challenge Task – Customer Review Analysis**\n",
    "- Summarize which category has the highest average sentiment score and use the rating column to cross-check.\n",
    "\n",
    "- Generate a visualization to display average customer satisfaction by category.\n"
   ]
  },
  {
   "cell_type": "code",
   "execution_count": 70,
   "id": "8a07b590-ba2a-4221-9598-33f260e443e6",
   "metadata": {},
   "outputs": [
    {
     "data": {
      "text/plain": [
       "<Axes: title={'center': 'Average Sentiment by Clothing Category'}, xlabel='Department Name'>"
      ]
     },
     "execution_count": 70,
     "metadata": {},
     "output_type": "execute_result"
    },
    {
     "data": {
      "image/png": "[encoded data removed]",
      "text/plain": [
       "<Figure size 640x480 with 1 Axes>"
      ]
     },
     "metadata": {},
     "output_type": "display_data"
    }
   ],
   "source": [
    "avg_sentiment = data.groupby('Department Name')['Sentiment'].mean()\n",
    "avg_sentiment.plot(kind='bar', title='Average Sentiment by Clothing Category')\n"
   ]
  },
  {
   "cell_type": "code",
   "execution_count": null,
   "id": "42419f95-c348-4883-a7f4-c9a3820a78c2",
   "metadata": {},
   "outputs": [],
   "source": []
  }
 ],
 "metadata": {
  "kernelspec": {
   "display_name": "Python 3 (ipykernel)",
   "language": "python",
   "name": "python3"
  },
  "language_info": {
   "codemirror_mode": {
    "name": "ipython",
    "version": 3
   },
   "file_extension": ".py",
   "mimetype": "text/x-python",
   "name": "python",
   "nbconvert_exporter": "python",
   "pygments_lexer": "ipython3",
   "version": "3.11.7"
  }
 },
 "nbformat": 4,
 "nbformat_minor": 5
}
